{
 "cells": [
  {
   "cell_type": "markdown",
   "metadata": {},
   "source": [
    "<p> This notebook is to create the XML files using the annotations already provided while downloading the dataset</p>\n",
    "<p> the dataset is from : https://universe.roboflow.com/roboflow-100/bone-fracture-7fylg/dataset/2</p>"
   ]
  },
  {
   "cell_type": "code",
   "execution_count": 83,
   "metadata": {},
   "outputs": [],
   "source": [
    "# import libraries\n",
    "import pandas as pd"
   ]
  },
  {
   "cell_type": "code",
   "execution_count": 84,
   "metadata": {},
   "outputs": [],
   "source": [
    "# function to replace dynamic parts with the given data from the excel sheet\n",
    "def search_and_replace(file_path, search_word, replace_word):\n",
    "   with open(file_path, 'r') as file:\n",
    "      file_contents = file.read()\n",
    "\n",
    "      updated_contents = file_contents.replace(search_word, replace_word)\n",
    "\n",
    "   with open(file_path, 'w') as file:\n",
    "      file.write(updated_contents)\n",
    "   \n",
    "   file.close()"
   ]
  },
  {
   "cell_type": "code",
   "execution_count": 93,
   "metadata": {},
   "outputs": [
    {
     "data": {
      "text/html": [
       "<div>\n",
       "<style scoped>\n",
       "    .dataframe tbody tr th:only-of-type {\n",
       "        vertical-align: middle;\n",
       "    }\n",
       "\n",
       "    .dataframe tbody tr th {\n",
       "        vertical-align: top;\n",
       "    }\n",
       "\n",
       "    .dataframe thead th {\n",
       "        text-align: right;\n",
       "    }\n",
       "</style>\n",
       "<table border=\"1\" class=\"dataframe\">\n",
       "  <thead>\n",
       "    <tr style=\"text-align: right;\">\n",
       "      <th></th>\n",
       "      <th>filename</th>\n",
       "      <th>width</th>\n",
       "      <th>height</th>\n",
       "      <th>class</th>\n",
       "      <th>xmin</th>\n",
       "      <th>ymin</th>\n",
       "      <th>xmax</th>\n",
       "      <th>ymax</th>\n",
       "    </tr>\n",
       "  </thead>\n",
       "  <tbody>\n",
       "    <tr>\n",
       "      <th>0</th>\n",
       "      <td>192_jpg.rf.a44d116b12d2efa63b37fe6bc7b5318d.jpg</td>\n",
       "      <td>837</td>\n",
       "      <td>1024</td>\n",
       "      <td>fracture</td>\n",
       "      <td>204</td>\n",
       "      <td>444</td>\n",
       "      <td>256</td>\n",
       "      <td>494</td>\n",
       "    </tr>\n",
       "    <tr>\n",
       "      <th>1</th>\n",
       "      <td>29_jpg.rf.a358d0249bf4ce4ecc85be891f7d1721.jpg</td>\n",
       "      <td>448</td>\n",
       "      <td>1024</td>\n",
       "      <td>fracture</td>\n",
       "      <td>243</td>\n",
       "      <td>618</td>\n",
       "      <td>270</td>\n",
       "      <td>645</td>\n",
       "    </tr>\n",
       "    <tr>\n",
       "      <th>2</th>\n",
       "      <td>73_jpg.rf.aa734b5afb647f0f8564eac868d4847f.jpg</td>\n",
       "      <td>383</td>\n",
       "      <td>1024</td>\n",
       "      <td>line</td>\n",
       "      <td>178</td>\n",
       "      <td>497</td>\n",
       "      <td>229</td>\n",
       "      <td>546</td>\n",
       "    </tr>\n",
       "    <tr>\n",
       "      <th>3</th>\n",
       "      <td>73_jpg.rf.aa734b5afb647f0f8564eac868d4847f.jpg</td>\n",
       "      <td>383</td>\n",
       "      <td>1024</td>\n",
       "      <td>angle</td>\n",
       "      <td>126</td>\n",
       "      <td>447</td>\n",
       "      <td>176</td>\n",
       "      <td>519</td>\n",
       "    </tr>\n",
       "    <tr>\n",
       "      <th>4</th>\n",
       "      <td>177_jpg.rf.a5f6e20d94ccf5454db6408b2d8dc0a0.jpg</td>\n",
       "      <td>603</td>\n",
       "      <td>1024</td>\n",
       "      <td>fracture</td>\n",
       "      <td>232</td>\n",
       "      <td>373</td>\n",
       "      <td>283</td>\n",
       "      <td>407</td>\n",
       "    </tr>\n",
       "  </tbody>\n",
       "</table>\n",
       "</div>"
      ],
      "text/plain": [
       "                                          filename  width  height     class  \\\n",
       "0  192_jpg.rf.a44d116b12d2efa63b37fe6bc7b5318d.jpg    837    1024  fracture   \n",
       "1   29_jpg.rf.a358d0249bf4ce4ecc85be891f7d1721.jpg    448    1024  fracture   \n",
       "2   73_jpg.rf.aa734b5afb647f0f8564eac868d4847f.jpg    383    1024      line   \n",
       "3   73_jpg.rf.aa734b5afb647f0f8564eac868d4847f.jpg    383    1024     angle   \n",
       "4  177_jpg.rf.a5f6e20d94ccf5454db6408b2d8dc0a0.jpg    603    1024  fracture   \n",
       "\n",
       "   xmin  ymin  xmax  ymax  \n",
       "0   204   444   256   494  \n",
       "1   243   618   270   645  \n",
       "2   178   497   229   546  \n",
       "3   126   447   176   519  \n",
       "4   232   373   283   407  "
      ]
     },
     "execution_count": 93,
     "metadata": {},
     "output_type": "execute_result"
    }
   ],
   "source": [
    "# open the annotations excel file to extract the data from it\n",
    "path = input(\"Enter path of the file : \")\n",
    "annotations = pd.read_csv(path)\n",
    "df = pd.DataFrame(annotations)\n",
    "df.head()"
   ]
  },
  {
   "cell_type": "code",
   "execution_count": 94,
   "metadata": {},
   "outputs": [
    {
     "data": {
      "text/plain": [
       "Index(['filename', 'width', 'height', 'class', 'xmin', 'ymin', 'xmax', 'ymax'], dtype='object')"
      ]
     },
     "execution_count": 94,
     "metadata": {},
     "output_type": "execute_result"
    }
   ],
   "source": [
    "df.columns"
   ]
  },
  {
   "cell_type": "code",
   "execution_count": 95,
   "metadata": {},
   "outputs": [],
   "source": [
    "# template for xml annotations\n",
    "file = open('annot_template.txt', 'w')\n",
    "file.write(\"\"\"\n",
    "<annotation>\n",
    "\t<folder>fracture-detection</folder>\n",
    "\t<filename>IMAGE_NAME</filename>\n",
    "\t<path>ANNOT_PATH</path>\n",
    "\t<source>\n",
    "\t\t<database>Unspecified</database>\n",
    "\t</source>\n",
    "\t<size>\n",
    "\t\t<width>WIDTH</width>\n",
    "\t\t<height>HEIGHT</height>\n",
    "\t\t<depth>3</depth>\n",
    "\t</size>\n",
    "\t<object>\n",
    "\t\t<name>LABEL</name>\n",
    "\t\t<pose>Unspecified</pose>\n",
    "\t\t<truncated>0</truncated>\n",
    "\t\t<difficult>0</difficult>\n",
    "\t\t<bndbox>\n",
    "\t\t\t<xmin>XMIN</xmin>\n",
    "\t\t\t<ymin>YMIN</ymin>\n",
    "\t\t\t<xmax>XMAX</xmax>\n",
    "\t\t\t<ymax>YMAX</ymax>\n",
    "\t\t</bndbox>\n",
    "\t</object>\n",
    "</annotation>\n",
    "\"\"\")\n",
    "file.close()\n"
   ]
  },
  {
   "cell_type": "code",
   "execution_count": 96,
   "metadata": {},
   "outputs": [
    {
     "ename": "KeyboardInterrupt",
     "evalue": "",
     "output_type": "error",
     "traceback": [
      "\u001b[1;31m---------------------------------------------------------------------------\u001b[0m",
      "\u001b[1;31mKeyboardInterrupt\u001b[0m                         Traceback (most recent call last)",
      "\u001b[1;32md:\\COLLEGE\\Semester 5\\Image and Video processing\\Project\\create_annotations.ipynb Cell 7\u001b[0m line \u001b[0;36m<cell line: 5>\u001b[1;34m()\u001b[0m\n\u001b[0;32m     <a href='vscode-notebook-cell:/d%3A/COLLEGE/Semester%205/Image%20and%20Video%20processing/Project/create_annotations.ipynb#W4sZmlsZQ%3D%3D?line=31'>32</a>\u001b[0m     location \u001b[39m=\u001b[39m values[\u001b[39m'\u001b[39m\u001b[39mANNOT_PATH\u001b[39m\u001b[39m'\u001b[39m]\n\u001b[0;32m     <a href='vscode-notebook-cell:/d%3A/COLLEGE/Semester%205/Image%20and%20Video%20processing/Project/create_annotations.ipynb#W4sZmlsZQ%3D%3D?line=32'>33</a>\u001b[0m     \u001b[39m#print(location)\u001b[39;00m\n\u001b[0;32m     <a href='vscode-notebook-cell:/d%3A/COLLEGE/Semester%205/Image%20and%20Video%20processing/Project/create_annotations.ipynb#W4sZmlsZQ%3D%3D?line=33'>34</a>\u001b[0m     \u001b[39m#print(\"{} \\n{} \\n{} \\n\\n\".format(location[1:], k, str(values[k])))\u001b[39;00m\n\u001b[1;32m---> <a href='vscode-notebook-cell:/d%3A/COLLEGE/Semester%205/Image%20and%20Video%20processing/Project/create_annotations.ipynb#W4sZmlsZQ%3D%3D?line=34'>35</a>\u001b[0m     search_and_replace(location[\u001b[39m1\u001b[39;49m:], k, \u001b[39mstr\u001b[39;49m(values[k]))\n\u001b[0;32m     <a href='vscode-notebook-cell:/d%3A/COLLEGE/Semester%205/Image%20and%20Video%20processing/Project/create_annotations.ipynb#W4sZmlsZQ%3D%3D?line=36'>37</a>\u001b[0m f1\u001b[39m.\u001b[39mclose()\n",
      "\u001b[1;32md:\\COLLEGE\\Semester 5\\Image and Video processing\\Project\\create_annotations.ipynb Cell 7\u001b[0m line \u001b[0;36msearch_and_replace\u001b[1;34m(file_path, search_word, replace_word)\u001b[0m\n\u001b[0;32m      <a href='vscode-notebook-cell:/d%3A/COLLEGE/Semester%205/Image%20and%20Video%20processing/Project/create_annotations.ipynb#W4sZmlsZQ%3D%3D?line=5'>6</a>\u001b[0m    updated_contents \u001b[39m=\u001b[39m file_contents\u001b[39m.\u001b[39mreplace(search_word, replace_word)\n\u001b[0;32m      <a href='vscode-notebook-cell:/d%3A/COLLEGE/Semester%205/Image%20and%20Video%20processing/Project/create_annotations.ipynb#W4sZmlsZQ%3D%3D?line=7'>8</a>\u001b[0m \u001b[39mwith\u001b[39;00m \u001b[39mopen\u001b[39m(file_path, \u001b[39m'\u001b[39m\u001b[39mw\u001b[39m\u001b[39m'\u001b[39m) \u001b[39mas\u001b[39;00m file:\n\u001b[1;32m----> <a href='vscode-notebook-cell:/d%3A/COLLEGE/Semester%205/Image%20and%20Video%20processing/Project/create_annotations.ipynb#W4sZmlsZQ%3D%3D?line=8'>9</a>\u001b[0m    file\u001b[39m.\u001b[39mwrite(updated_contents)\n\u001b[0;32m     <a href='vscode-notebook-cell:/d%3A/COLLEGE/Semester%205/Image%20and%20Video%20processing/Project/create_annotations.ipynb#W4sZmlsZQ%3D%3D?line=10'>11</a>\u001b[0m file\u001b[39m.\u001b[39mclose()\n",
      "\u001b[1;31mKeyboardInterrupt\u001b[0m: "
     ]
    }
   ],
   "source": [
    "# creating the xml annotations\n",
    "length = len(df['filename'])\n",
    "\n",
    "path = input(\"Enter Destination path: \")\n",
    "for i in range(length):\n",
    "    fname = df.iloc[i][0][:-4]\n",
    "    fname = fname+\".xml\"\n",
    "\n",
    "    f1 = open(\"annot_template.txt\", \"r\")\n",
    "    lines = f1.readlines()\n",
    "    #print(lines)\n",
    "\n",
    "    f2_name = \"{}/{}\".format(path, fname)\n",
    "    f2 = open(f2_name, \"w\")\n",
    "    for line in lines:\n",
    "        f2.write(line)\n",
    "\n",
    "    values = dict()\n",
    "    values['IMAGE_NAME'] = df.iloc[i][0]\n",
    "    values['ANNOT_PATH'] = '/{}/{}'.format(path, fname)\n",
    "    values['WIDTH'] = df.iloc[i][1]\n",
    "    values['HEIGHT'] = df.iloc[i][2]\n",
    "    values['LABEL'] = df.iloc[i][3]\n",
    "    values['XMIN'] = df.iloc[i][4]\n",
    "    values['YMIN'] = df.iloc[i][5]\n",
    "    values['XMAX'] = df.iloc[i][6]\n",
    "    values['YMAX'] = df.iloc[i][7]\n",
    "\n",
    "    f2.close()\n",
    "\n",
    "    for k in values.keys():\n",
    "        location = values['ANNOT_PATH']\n",
    "        #print(location)\n",
    "        #print(\"{} \\n{} \\n{} \\n\\n\".format(location[1:], k, str(values[k])))\n",
    "        search_and_replace(location[1:], k, str(values[k]))\n",
    "\n",
    "    f1.close()"
   ]
  },
  {
   "cell_type": "code",
   "execution_count": null,
   "metadata": {},
   "outputs": [],
   "source": []
  }
 ],
 "metadata": {
  "kernelspec": {
   "display_name": "Python 3",
   "language": "python",
   "name": "python3"
  },
  "language_info": {
   "codemirror_mode": {
    "name": "ipython",
    "version": 3
   },
   "file_extension": ".py",
   "mimetype": "text/x-python",
   "name": "python",
   "nbconvert_exporter": "python",
   "pygments_lexer": "ipython3",
   "version": "3.9.5"
  },
  "orig_nbformat": 4
 },
 "nbformat": 4,
 "nbformat_minor": 2
}
